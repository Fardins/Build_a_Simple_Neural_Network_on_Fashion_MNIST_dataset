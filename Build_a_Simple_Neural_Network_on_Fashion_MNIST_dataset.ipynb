{
  "nbformat": 4,
  "nbformat_minor": 0,
  "metadata": {
    "colab": {
      "provenance": [],
      "collapsed_sections": [
        "SmZ3oN_n1joK",
        "QmZT4OnBKJTM",
        "5hWI0B93Pyi8",
        "bZ8wTNOLlyHM",
        "zeZ7S80IXX16",
        "AXw3x21_E6xx",
        "ompBH4sjaI_s",
        "5_-nmz7UeMWQ",
        "_r71hX2zIOS1",
        "PoHaNlwujEpG",
        "Hoa51WQCJc7O",
        "Jr5c7hYsmXct",
        "rMEefif8Kjt1",
        "s6NnwjVKo6BG",
        "qjPVgnKnxzVo",
        "elTLu4UMECTi",
        "MF9BKMvsEUpA"
      ],
      "toc_visible": true
    },
    "kernelspec": {
      "name": "python3",
      "display_name": "Python 3"
    },
    "language_info": {
      "name": "python"
    }
  },
  "cells": [
    {
      "cell_type": "markdown",
      "source": [
        "#  **Problem Statement**"
      ],
      "metadata": {
        "id": "elcsvpyHuMvg"
      }
    },
    {
      "cell_type": "markdown",
      "source": [
        "## **Tasks**\n",
        "\n",
        "**1. Data Preparation**\n",
        "*   Import the necessary libraries (torch, torchvision, matplotlib, etc.).\n",
        "*   Load the Fashion MNIST dataset using torchvision.datasets.FashionMNIST.\n",
        "*   Apply appropriate transformations (e.g., convert to tensor, normalize).\n",
        "*   Split the data into training and test sets.\n",
        "*   Create DataLoaders for batching and shuffling.\n",
        "\n",
        "**2. Visualize the Data**\n",
        "*   Display a few sample images along with their labels to familiarize yourself with the dataset.\n",
        "\n",
        "**3. Build a Simple Neural Network**\n",
        "\n",
        "Define a neural network (SimpleNet) with:\n",
        "*   An input layer that flattens the 28x28 images.\n",
        "*   Some hidden layers with some neurons(as you want).\n",
        "*   An output layer with 10 neurons (for the 10 classes).\n",
        "*   Use ReLU as the activation function after the hidden layer.\n",
        "\n",
        "**4. Train the Network**\n",
        "*   Define a loss function (nn.CrossEntropyLoss).\n",
        "*   Use an optimizer (optim.SGD) with a learning rate of 0.01.\n",
        "*   Train the network for 30/40/50 epochs.\n",
        "*   Record the training loss after each epoch.\n",
        "\n",
        "**5. Evaluate the Model**\n",
        "*   Evaluate the trained model on the test set.\n",
        "*   Calculate the overall accuracy.\n",
        "*   Display the accuracy for each class.\n",
        "\n",
        "**6. Experimentation**\n",
        "*   Increase the number of neurons in the hidden layer to 10, 50, and 100.\n",
        "*   Retrain the model for each configuration.\n",
        "*   Compare the test accuracies and discuss the impact of increasing model complexity.\n",
        "\n",
        "**7. Regularization Techniques (Optional)**\n",
        "*   Apply dropout with a probability of 0.5 after the hidden layer.\n",
        "*   Use L2 regularization by adding weight_decay to the optimizer.\n",
        "*   Retrain the model and compare the results.\n",
        "\n",
        "# **Submission**\n",
        "\n",
        "*   Submit a Jupyter Notebook (.ipynb) containing:\n",
        "\n",
        " *   All the code for the tasks.\n",
        " *   Plots of training loss and any relevant visualizations.\n",
        " *   Brief comments or observations for each task.\n",
        "\n",
        "# **Dataset Reference**\n",
        "\n",
        "\n",
        "*   Fashion MNIST Dataset: https://github.com/zalandoresearch/fashion-mnist\n",
        "*   PyTorch Dataset Class: torchvision.datasets.FashionMNIST\n",
        "\n",
        "# **Note**\n",
        "Keep your code and explanations concise. Focus on demonstrating your understanding of building and training neural networks with PyTorch."
      ],
      "metadata": {
        "id": "56PxtCRV1Va5"
      }
    },
    {
      "cell_type": "markdown",
      "source": [
        "#  **Solution Tasks**"
      ],
      "metadata": {
        "id": "Q41XqAZf09u_"
      }
    },
    {
      "cell_type": "markdown",
      "source": [
        "###  **Step-1: Data Preparation-**"
      ],
      "metadata": {
        "id": "SmZ3oN_n1joK"
      }
    },
    {
      "cell_type": "code",
      "source": [
        "# Import necessary libraries\n",
        "import torch\n",
        "import torch.nn as nn\n",
        "import torch.optim as optim\n",
        "import torchvision\n",
        "import torchvision.transforms as transforms\n",
        "import matplotlib.pyplot as plt\n",
        "import numpy as np\n",
        "import pandas as pd"
      ],
      "metadata": {
        "id": "1CTj0M8Y0trc"
      },
      "execution_count": 24,
      "outputs": []
    },
    {
      "cell_type": "code",
      "source": [
        "# Define transformations for the training and testing sets\n",
        "transform = transforms.Compose([\n",
        "    transforms.ToTensor(),  # Convert images to PyTorch tensors\n",
        "    transforms.Normalize((0.5,), (0.5,))  # Normalize the data to [-1, 1]\n",
        "])"
      ],
      "metadata": {
        "id": "dn02RKpB3jDx"
      },
      "execution_count": 25,
      "outputs": []
    },
    {
      "cell_type": "code",
      "source": [
        "# Download and load the training data\n",
        "trainset = torchvision.datasets.FashionMNIST(\n",
        "    root='./data',        # Directory to store the dataset\n",
        "    train=True,           # Specifies training set\n",
        "    download=True,        # Downloads the dataset if not already present\n",
        "    transform=transform   # Applies the transformations\n",
        ")\n",
        "\n",
        "trainloader = torch.utils.data.DataLoader(\n",
        "    trainset,             # Dataset to load\n",
        "    batch_size=64,        # Number of samples per batch\n",
        "    shuffle=True          # Shuffle the data at every epoch\n",
        ")\n",
        "\n",
        "# Download and load the testing data\n",
        "testset = torchvision.datasets.FashionMNIST(\n",
        "    root='./data',\n",
        "    train=False,          # Specifies test set\n",
        "    download=True,\n",
        "    transform=transform\n",
        ")\n",
        "testloader = torch.utils.data.DataLoader(\n",
        "    testset,\n",
        "    batch_size=64,\n",
        "    shuffle=False         # No need to shuffle test data\n",
        ")"
      ],
      "metadata": {
        "id": "KvyTDIV87iMi"
      },
      "execution_count": 26,
      "outputs": []
    },
    {
      "cell_type": "markdown",
      "source": [
        "### **Step - 2: Visualize the Data-**"
      ],
      "metadata": {
        "id": "QmZT4OnBKJTM"
      }
    },
    {
      "cell_type": "code",
      "source": [
        "# Map numeric labels to class names\n",
        "classes = ['T-shirt/top', 'Trouser', 'Pullover', 'Dress', 'Coat',\n",
        "           'Sandal', 'Shirt', 'Sneaker', 'Bag', 'Ankle boot']\n",
        "\n",
        "# Function to show an image\n",
        "def imshow(img):\n",
        "    img = img / 2 + 0.5  # Unnormalize the image\n",
        "    npimg = img.numpy()\n",
        "    plt.imshow(np.squeeze(npimg), cmap='gray')\n",
        "    plt.axis('off')\n",
        "    plt.show()\n",
        "\n",
        "# Get some random training images\n",
        "dataiter = iter(trainloader)\n",
        "images, labels = next(dataiter)\n",
        "\n",
        "# Show one image\n",
        "imshow(images[0])\n",
        "print('Label:', classes[labels[0]])\n",
        "\n",
        "imshow(images[6])\n",
        "print('Label:', classes[labels[6]])\n",
        "\n",
        "imshow(images[1])\n",
        "print('Label:', classes[labels[1]])"
      ],
      "metadata": {
        "colab": {
          "base_uri": "https://localhost:8080/",
          "height": 1000
        },
        "id": "z22A0kEnL4o7",
        "outputId": "dea5a910-5ee5-4ff3-9313-2449c875de4d"
      },
      "execution_count": 27,
      "outputs": [
        {
          "output_type": "display_data",
          "data": {
            "text/plain": [
              "<Figure size 640x480 with 1 Axes>"
            ],
            "image/png": "[encoded data removed]"
          },
          "metadata": {}
        },
        {
          "output_type": "stream",
          "name": "stdout",
          "text": [
            "Label: Coat\n"
          ]
        },
        {
          "output_type": "display_data",
          "data": {
            "text/plain": [
              "<Figure size 640x480 with 1 Axes>"
            ],
            "image/png": "[encoded data removed]"
          },
          "metadata": {}
        },
        {
          "output_type": "stream",
          "name": "stdout",
          "text": [
            "Label: Bag\n"
          ]
        },
        {
          "output_type": "display_data",
          "data": {
            "text/plain": [
              "<Figure size 640x480 with 1 Axes>"
            ],
            "image/png": "[encoded data removed]"
          },
          "metadata": {}
        },
        {
          "output_type": "stream",
          "name": "stdout",
          "text": [
            "Label: Trouser\n"
          ]
        }
      ]
    },
    {
      "cell_type": "markdown",
      "source": [
        "### **Step 3: Build a Simple Neural Network-**"
      ],
      "metadata": {
        "id": "5hWI0B93Pyi8"
      }
    },
    {
      "cell_type": "code",
      "source": [
        "# Define a neural network SimpleNet\n",
        "class SimpleNet(nn.Module):\n",
        "    def __init__(self):\n",
        "        super(SimpleNet, self).__init__()\n",
        "        self.fc1 = nn.Linear(28 * 28, 512)  # Hidden layer\n",
        "        self.relu1 = nn.ReLU()   # Apply ReLU activation\n",
        "        self.fc2 = nn.Linear(512, 256)\n",
        "        self.relu2 = nn.ReLU()\n",
        "        self.fc3 = nn.Linear(256, 128)\n",
        "        self.relu3 = nn.ReLU()\n",
        "        self.fc4 = nn.Linear(128, 64)\n",
        "        self.relu4 = nn.ReLU()\n",
        "        self.fc5 = nn.Linear(64, 10)   # Output layer\n",
        "\n",
        "    def forward(self, x):\n",
        "        x = x.view(-1, 28 * 28)  # Flatten the images\n",
        "        x = self.relu1(self.fc1(x))\n",
        "        x = self.relu2(self.fc2(x))\n",
        "        x = self.relu3(self.fc3(x))\n",
        "        x = self.relu4(self.fc4(x))\n",
        "        x = self.fc5(x) # Output layer (no activation, will use CrossEntropyLoss)\n",
        "        return x"
      ],
      "metadata": {
        "id": "8mPrD96CQIXv"
      },
      "execution_count": 28,
      "outputs": []
    },
    {
      "cell_type": "code",
      "source": [
        "# Initialize the network\n",
        "net = SimpleNet()"
      ],
      "metadata": {
        "id": "djsFQ8M-n3Lw"
      },
      "execution_count": 29,
      "outputs": []
    },
    {
      "cell_type": "markdown",
      "source": [
        "### **Step 4: Train the Network-**"
      ],
      "metadata": {
        "id": "bZ8wTNOLlyHM"
      }
    },
    {
      "cell_type": "code",
      "source": [
        "# Define loss function and optimizer\n",
        "criterion = nn.CrossEntropyLoss()\n",
        "optimizer = optim.SGD(net.parameters(), lr=0.01)  # Using Stochastic gradient descent optimizer"
      ],
      "metadata": {
        "id": "JeUX_HtFl25I"
      },
      "execution_count": 30,
      "outputs": []
    },
    {
      "cell_type": "code",
      "source": [
        "#Training Function Using SGD Optimizer\n",
        "#Train the network for 30 epochs\n",
        "def train_with_optimizer(net, optimizer, criterion, num_epochs=30):\n",
        "    print(\"\\nTraining with Optimizer (SGD)\")\n",
        "    net.train()\n",
        "\n",
        "    train_losses = []\n",
        "    for epoch in range(num_epochs):\n",
        "        running_loss = 0.0\n",
        "        for inputs, labels in trainloader:\n",
        "            optimizer.zero_grad()\n",
        "            outputs = net(inputs)\n",
        "            loss = criterion(outputs, labels)\n",
        "            loss.backward()\n",
        "            optimizer.step()\n",
        "            running_loss += loss.item()\n",
        "        epoch_loss = running_loss / len(trainloader)\n",
        "        train_losses.append(epoch_loss)\n",
        "        print(f\"Epoch [{epoch + 1}/{num_epochs}], Loss: {epoch_loss:.4f}\")\n",
        "\n",
        "    print('Finished Training with Optimizer (SGD)')\n",
        "    return train_losses\n",
        "\n",
        "# Train the network\n",
        "losses_with_optimizer = train_with_optimizer(net, optimizer, criterion, num_epochs=30)\n",
        "\n",
        "# Plot the training losses\n",
        "plt.figure()\n",
        "plt.plot(losses_with_optimizer, label='Training Loss with SGD Optimizer')\n",
        "plt.title('Training Loss with SGD Optimizer')\n",
        "plt.xlabel('Epoch')\n",
        "plt.ylabel('Loss')\n",
        "plt.legend()\n",
        "plt.grid(True)\n",
        "plt.show()"
      ],
      "metadata": {
        "colab": {
          "base_uri": "https://localhost:8080/",
          "height": 1000
        },
        "id": "yXAL5vy3rywT",
        "outputId": "5b1c9946-4cc4-4f03-da5b-ceda4138b86d"
      },
      "execution_count": 31,
      "outputs": [
        {
          "output_type": "stream",
          "name": "stdout",
          "text": [
            "\n",
            "Training with Optimizer (SGD)\n",
            "Epoch [1/30], Loss: 1.8071\n",
            "Epoch [2/30], Loss: 0.7683\n",
            "Epoch [3/30], Loss: 0.6204\n",
            "Epoch [4/30], Loss: 0.5338\n",
            "Epoch [5/30], Loss: 0.4799\n",
            "Epoch [6/30], Loss: 0.4435\n",
            "Epoch [7/30], Loss: 0.4174\n",
            "Epoch [8/30], Loss: 0.3966\n",
            "Epoch [9/30], Loss: 0.3787\n",
            "Epoch [10/30], Loss: 0.3634\n",
            "Epoch [11/30], Loss: 0.3503\n",
            "Epoch [12/30], Loss: 0.3408\n",
            "Epoch [13/30], Loss: 0.3302\n",
            "Epoch [14/30], Loss: 0.3206\n",
            "Epoch [15/30], Loss: 0.3087\n",
            "Epoch [16/30], Loss: 0.3020\n",
            "Epoch [17/30], Loss: 0.2933\n",
            "Epoch [18/30], Loss: 0.2863\n",
            "Epoch [19/30], Loss: 0.2788\n",
            "Epoch [20/30], Loss: 0.2734\n",
            "Epoch [21/30], Loss: 0.2663\n",
            "Epoch [22/30], Loss: 0.2594\n",
            "Epoch [23/30], Loss: 0.2525\n",
            "Epoch [24/30], Loss: 0.2468\n",
            "Epoch [25/30], Loss: 0.2402\n",
            "Epoch [26/30], Loss: 0.2357\n",
            "Epoch [27/30], Loss: 0.2310\n",
            "Epoch [28/30], Loss: 0.2250\n",
            "Epoch [29/30], Loss: 0.2211\n",
            "Epoch [30/30], Loss: 0.2124\n",
            "Finished Training with Optimizer (SGD)\n"
          ]
        },
        {
          "output_type": "display_data",
          "data": {
            "text/plain": [
              "<Figure size 640x480 with 1 Axes>"
            ],
            "image/png": "[encoded data removed]"
          },
          "metadata": {}
        }
      ]
    },
    {
      "cell_type": "markdown",
      "source": [
        "### **Step 5: Evaluate the Model-**"
      ],
      "metadata": {
        "id": "zeZ7S80IXX16"
      }
    },
    {
      "cell_type": "code",
      "source": [
        "#To store all accuracy\n",
        "Overall_Accuracy=[]\n",
        "\n",
        "# Evaluating the Final Model\n",
        "\n",
        "def evaluate_network():\n",
        "    net.eval()\n",
        "    correct = 0\n",
        "    total = 0\n",
        "    class_correct = [0] * 10\n",
        "    class_total = [0] * 10\n",
        "    with torch.no_grad():\n",
        "        for inputs, labels in testloader:\n",
        "            outputs = net(inputs)\n",
        "            _, predicted = torch.max(outputs, 1)\n",
        "            total += labels.size(0)\n",
        "            correct += (predicted == labels).sum().item()\n",
        "            # Per-class accuracy\n",
        "            c = (predicted == labels).squeeze()\n",
        "            for i in range(len(labels)):\n",
        "                label = labels[i]\n",
        "                class_correct[label] += c[i].item()\n",
        "                class_total[label] += 1\n",
        "\n",
        "    accuracy_neuron_512= (f'{100 * correct / total:.2f}%')\n",
        "    print(f'Overall Accuracy on the test set: {accuracy_neuron_512}\\n')\n",
        "    Overall_Accuracy.append(accuracy_neuron_512)\n",
        "    # Print accuracy for each class\n",
        "    for i in range(10):\n",
        "        if class_total[i] > 0:\n",
        "            print(f'Accuracy of {classes[i]:>10s}: {100 * class_correct[i] / class_total[i]:.2f}%')\n",
        "        else:\n",
        "            print(f'Accuracy of {classes[i]:>10s}: N/A (no samples)')\n",
        "\n",
        "# Call the evaluation function\n",
        "evaluate_network()"
      ],
      "metadata": {
        "colab": {
          "base_uri": "https://localhost:8080/"
        },
        "id": "eN4qPrfNXagx",
        "outputId": "009cd7aa-1df2-4aac-fb69-ed8886c7e943"
      },
      "execution_count": 32,
      "outputs": [
        {
          "output_type": "stream",
          "name": "stdout",
          "text": [
            "Overall Accuracy on the test set: 88.29%\n",
            "\n",
            "Accuracy of T-shirt/top: 88.40%\n",
            "Accuracy of    Trouser: 96.60%\n",
            "Accuracy of   Pullover: 84.40%\n",
            "Accuracy of      Dress: 89.40%\n",
            "Accuracy of       Coat: 74.40%\n",
            "Accuracy of     Sandal: 96.90%\n",
            "Accuracy of      Shirt: 66.50%\n",
            "Accuracy of    Sneaker: 95.40%\n",
            "Accuracy of        Bag: 96.50%\n",
            "Accuracy of Ankle boot: 94.40%\n"
          ]
        }
      ]
    },
    {
      "cell_type": "markdown",
      "source": [
        "#### **Observation-**"
      ],
      "metadata": {
        "id": "AXw3x21_E6xx"
      }
    },
    {
      "cell_type": "markdown",
      "source": [
        "Here, overall accuracy is 88.29%.\n",
        "\n",
        "*   I Use ReLU as the activation function after the hidden layer.\n",
        "*   I Use an optimizer (optim.SGD) with a learning rate of 0.01.\n",
        "\n",
        "*   The number of neurons in the hidden layer to 512, 256, 128, 64.\n",
        "*   There are some classes where the accuracy is notably high, such as Bag (96.50%) and Trouser (96.60%).\n",
        "\n",
        "*    However, other classes like Shirt (66.50%) and Coat (74.40%) have lower accuracies, indicating the model struggles with these items.\n"
      ],
      "metadata": {
        "id": "tm_70n7vFAyx"
      }
    },
    {
      "cell_type": "markdown",
      "source": [
        "### **Step 6: Experimentation-**"
      ],
      "metadata": {
        "id": "ompBH4sjaI_s"
      }
    },
    {
      "cell_type": "markdown",
      "source": [
        "#### **For, 10 neurons in the hidden layer-**"
      ],
      "metadata": {
        "id": "5_-nmz7UeMWQ"
      }
    },
    {
      "cell_type": "code",
      "source": [
        "class SimpleNet10(nn.Module):\n",
        "    def __init__(self):\n",
        "        super(SimpleNet10, self).__init__()\n",
        "        self.fc1 = nn.Linear(28 * 28, 10)\n",
        "        self.relu1 = nn.ReLU()\n",
        "        self.fc2 = nn.Linear(10, 10)\n",
        "        self.relu2 = nn.ReLU()\n",
        "        self.fc3 = nn.Linear(10, 10)\n",
        "        self.relu3 = nn.ReLU()\n",
        "        self.fc4 = nn.Linear(10, 10)\n",
        "        self.relu4 = nn.ReLU()\n",
        "        self.fc5 = nn.Linear(10, 10)  # Output layer\n",
        "\n",
        "    def forward(self, x):\n",
        "        x = x.view(-1, 28 * 28)\n",
        "        x = self.relu1(self.fc1(x))\n",
        "        x = self.relu2(self.fc2(x))\n",
        "        x = self.relu3(self.fc3(x))\n",
        "        x = self.relu4(self.fc4(x))\n",
        "        x = self.fc5(x)\n",
        "        return x\n",
        "\n",
        "net_10 = SimpleNet10()\n",
        "\n",
        "# Define loss function and optimizer\n",
        "criterion_10 = nn.CrossEntropyLoss()\n",
        "optimizer_10 = optim.SGD(net.parameters(), lr=0.01)  # Using Stochastic gradient descent optimizer\n",
        "\n",
        "#Training Function Using SGD Optimizer\n",
        "#Train the network for 30 epochs\n",
        "def train_with_optimizer_10(net_10, optimizer_10, criterion_10, num_epochs=30):\n",
        "    print(\"\\nTraining with Optimizer (SGD)\")\n",
        "    net.train()\n",
        "\n",
        "    train_losses = []\n",
        "    for epoch in range(num_epochs):\n",
        "        running_loss = 0.0\n",
        "        for inputs, labels in trainloader:\n",
        "            optimizer.zero_grad()\n",
        "            outputs = net(inputs)\n",
        "            loss = criterion(outputs, labels)\n",
        "            loss.backward()\n",
        "            optimizer.step()\n",
        "            running_loss += loss.item()\n",
        "        epoch_loss = running_loss / len(trainloader)\n",
        "        train_losses.append(epoch_loss)\n",
        "        print(f\"Epoch [{epoch + 1}/{num_epochs}], Loss: {epoch_loss:.4f}\")\n",
        "\n",
        "    print('Finished Training with Optimizer (SGD)')\n",
        "    return train_losses\n",
        "\n",
        "# Train the network\n",
        "losses_with_optimizer_10 = train_with_optimizer_10(net_10, optimizer_10, criterion_10, num_epochs=30)\n",
        "\n",
        "# Plot the training losses\n",
        "plt.figure()\n",
        "plt.plot(losses_with_optimizer, label='Training Loss with SGD Optimizer')\n",
        "plt.title('Training Loss with SGD Optimizer')\n",
        "plt.xlabel('Epoch')\n",
        "plt.ylabel('Loss')\n",
        "plt.legend()\n",
        "plt.grid(True)\n",
        "plt.show()\n",
        "\n",
        "# Evaluating the Final Model\n",
        "\n",
        "def evaluate_network_10():\n",
        "    net_10.eval()\n",
        "    correct = 0\n",
        "    total = 0\n",
        "    class_correct = [0] * 10\n",
        "    class_total = [0] * 10\n",
        "    with torch.no_grad():\n",
        "        for inputs, labels in testloader:\n",
        "            outputs = net(inputs)\n",
        "            _, predicted = torch.max(outputs, 1)\n",
        "            total += labels.size(0)\n",
        "            correct += (predicted == labels).sum().item()\n",
        "            # Per-class accuracy\n",
        "            c = (predicted == labels).squeeze()\n",
        "            for i in range(len(labels)):\n",
        "                label = labels[i]\n",
        "                class_correct[label] += c[i].item()\n",
        "                class_total[label] += 1\n",
        "\n",
        "    accuracy_neuron_10= (f'{100 * correct / total:.2f}%')\n",
        "    print(f'Overall Accuracy on the test set: {accuracy_neuron_10}\\n')\n",
        "    Overall_Accuracy.append(accuracy_neuron_10)\n",
        "    # Print accuracy for each class\n",
        "    for i in range(10):\n",
        "        if class_total[i] > 0:\n",
        "            print(f'Accuracy of {classes[i]:>10s}: {100 * class_correct[i] / class_total[i]:.2f}%')\n",
        "        else:\n",
        "            print(f'Accuracy of {classes[i]:>10s}: N/A (no samples)')\n",
        "\n",
        "# Call the evaluation function\n",
        "evaluate_network_10()\n",
        "\n",
        "\n",
        "\n"
      ],
      "metadata": {
        "colab": {
          "base_uri": "https://localhost:8080/",
          "height": 1000
        },
        "id": "bHwQ3w2OaO5c",
        "outputId": "299b84b8-d8c1-4347-ca74-e81bc9e20b10"
      },
      "execution_count": 33,
      "outputs": [
        {
          "output_type": "stream",
          "name": "stdout",
          "text": [
            "\n",
            "Training with Optimizer (SGD)\n",
            "Epoch [1/30], Loss: 0.2084\n",
            "Epoch [2/30], Loss: 0.2063\n",
            "Epoch [3/30], Loss: 0.2007\n",
            "Epoch [4/30], Loss: 0.1944\n",
            "Epoch [5/30], Loss: 0.1906\n",
            "Epoch [6/30], Loss: 0.1844\n",
            "Epoch [7/30], Loss: 0.1809\n",
            "Epoch [8/30], Loss: 0.1782\n",
            "Epoch [9/30], Loss: 0.1745\n",
            "Epoch [10/30], Loss: 0.1686\n",
            "Epoch [11/30], Loss: 0.1639\n",
            "Epoch [12/30], Loss: 0.1617\n",
            "Epoch [13/30], Loss: 0.1581\n",
            "Epoch [14/30], Loss: 0.1524\n",
            "Epoch [15/30], Loss: 0.1482\n",
            "Epoch [16/30], Loss: 0.1446\n",
            "Epoch [17/30], Loss: 0.1413\n",
            "Epoch [18/30], Loss: 0.1359\n",
            "Epoch [19/30], Loss: 0.1318\n",
            "Epoch [20/30], Loss: 0.1281\n",
            "Epoch [21/30], Loss: 0.1264\n",
            "Epoch [22/30], Loss: 0.1230\n",
            "Epoch [23/30], Loss: 0.1200\n",
            "Epoch [24/30], Loss: 0.1179\n",
            "Epoch [25/30], Loss: 0.1137\n",
            "Epoch [26/30], Loss: 0.1089\n",
            "Epoch [27/30], Loss: 0.1067\n",
            "Epoch [28/30], Loss: 0.1040\n",
            "Epoch [29/30], Loss: 0.1022\n",
            "Epoch [30/30], Loss: 0.0967\n",
            "Finished Training with Optimizer (SGD)\n"
          ]
        },
        {
          "output_type": "display_data",
          "data": {
            "text/plain": [
              "<Figure size 640x480 with 1 Axes>"
            ],
            "image/png": "[encoded data removed]"
          },
          "metadata": {}
        },
        {
          "output_type": "stream",
          "name": "stdout",
          "text": [
            "Overall Accuracy on the test set: 88.23%\n",
            "\n",
            "Accuracy of T-shirt/top: 82.50%\n",
            "Accuracy of    Trouser: 97.20%\n",
            "Accuracy of   Pullover: 68.80%\n",
            "Accuracy of      Dress: 90.00%\n",
            "Accuracy of       Coat: 84.80%\n",
            "Accuracy of     Sandal: 94.50%\n",
            "Accuracy of      Shirt: 74.80%\n",
            "Accuracy of    Sneaker: 96.20%\n",
            "Accuracy of        Bag: 96.80%\n",
            "Accuracy of Ankle boot: 96.70%\n"
          ]
        }
      ]
    },
    {
      "cell_type": "markdown",
      "source": [
        "##### **Observation-**"
      ],
      "metadata": {
        "id": "_r71hX2zIOS1"
      }
    },
    {
      "cell_type": "markdown",
      "source": [
        "Here, overall test set accuracy is 88.23%, which is fairly strong, but there are some notable variations in accuracy across different classes.\n",
        "\n",
        "\n",
        "\n",
        "*   Here, the number of neurons in the hidden layer is 10.\n",
        "*   Trouser (97.20%), Sandal (94.50%), Sneaker (96.20%), Bag (96.80%), and Ankle boot (96.70%) are performing very well, with accuracies above 95%. The model has a solid grasp of these categories.\n",
        "\n",
        "*   Coat (84.80%) and Dress (90.00%) have decent accuracy, though there's room for improvement.\n",
        "*  T-shirt/top (82.50%), Pullover (68.80%), and Shirt (74.80%) are performing at lower levels, and the model struggles more with distinguishing these items.\n",
        "\n"
      ],
      "metadata": {
        "id": "glirIke0IT_z"
      }
    },
    {
      "cell_type": "markdown",
      "source": [
        "#### **For, 50 neurons in the hidden layer-**"
      ],
      "metadata": {
        "id": "PoHaNlwujEpG"
      }
    },
    {
      "cell_type": "code",
      "source": [
        "class SimpleNet50(nn.Module):\n",
        "    def __init__(self):\n",
        "        super(SimpleNet50, self).__init__()\n",
        "        self.fc1 = nn.Linear(28 * 28, 50)\n",
        "        self.relu1 = nn.ReLU()\n",
        "        self.fc2 = nn.Linear(50, 50)\n",
        "        self.relu2 = nn.ReLU()\n",
        "        self.fc3 = nn.Linear(50, 50)\n",
        "        self.relu3 = nn.ReLU()\n",
        "        self.fc4 = nn.Linear(50, 50)\n",
        "        self.relu4 = nn.ReLU()\n",
        "        self.fc5 = nn.Linear(50, 10)  # Output layer\n",
        "\n",
        "    def forward(self, x):\n",
        "        x = x.view(-1, 28 * 28)\n",
        "        x = self.relu1(self.fc1(x))\n",
        "        x = self.relu2(self.fc2(x))\n",
        "        x = self.relu3(self.fc3(x))\n",
        "        x = self.relu4(self.fc4(x))\n",
        "        x = self.fc5(x)\n",
        "        return x\n",
        "\n",
        "net_50 = SimpleNet50()\n",
        "\n",
        "# Define loss function and optimizer\n",
        "criterion_50 = nn.CrossEntropyLoss()\n",
        "optimizer_50 = optim.SGD(net.parameters(), lr=0.01)  # Using Stochastic gradient descent optimizer\n",
        "\n",
        "#Training Function Using SGD Optimizer\n",
        "#Train the network for 30 epochs\n",
        "def train_with_optimizer_50(net_50, optimizer_50, criterion_50, num_epochs=30):\n",
        "    print(\"\\nTraining with Optimizer (SGD)\")\n",
        "    net.train()\n",
        "\n",
        "    train_losses = []\n",
        "    for epoch in range(num_epochs):\n",
        "        running_loss = 0.0\n",
        "        for inputs, labels in trainloader:\n",
        "            optimizer.zero_grad()\n",
        "            outputs = net(inputs)\n",
        "            loss = criterion(outputs, labels)\n",
        "            loss.backward()\n",
        "            optimizer.step()\n",
        "            running_loss += loss.item()\n",
        "        epoch_loss = running_loss / len(trainloader)\n",
        "        train_losses.append(epoch_loss)\n",
        "        print(f\"Epoch [{epoch + 1}/{num_epochs}], Loss: {epoch_loss:.4f}\")\n",
        "\n",
        "    print('Finished Training with Optimizer (SGD)')\n",
        "    return train_losses\n",
        "\n",
        "# Train the network\n",
        "losses_with_optimizer_50 = train_with_optimizer_50(net_50, optimizer_50, criterion_50, num_epochs=30)\n",
        "\n",
        "# Plot the training losses\n",
        "plt.figure()\n",
        "plt.plot(losses_with_optimizer, label='Training Loss with SGD Optimizer')\n",
        "plt.title('Training Loss with SGD Optimizer')\n",
        "plt.xlabel('Epoch')\n",
        "plt.ylabel('Loss')\n",
        "plt.legend()\n",
        "plt.grid(True)\n",
        "plt.show()\n",
        "\n",
        "# Evaluating the Final Model\n",
        "\n",
        "def evaluate_network_50():\n",
        "    net_50.eval()\n",
        "    correct = 0\n",
        "    total = 0\n",
        "    class_correct = [0] * 10\n",
        "    class_total = [0] * 10\n",
        "    with torch.no_grad():\n",
        "        for inputs, labels in testloader:\n",
        "            outputs = net(inputs)\n",
        "            _, predicted = torch.max(outputs, 1)\n",
        "            total += labels.size(0)\n",
        "            correct += (predicted == labels).sum().item()\n",
        "            # Per-class accuracy\n",
        "            c = (predicted == labels).squeeze()\n",
        "            for i in range(len(labels)):\n",
        "                label = labels[i]\n",
        "                class_correct[label] += c[i].item()\n",
        "                class_total[label] += 1\n",
        "\n",
        "    accuracy_neuron_50= (f'{100 * correct / total:.2f}%')\n",
        "    print(f'Overall Accuracy on the test set: {accuracy_neuron_50}\\n')\n",
        "    Overall_Accuracy.append(accuracy_neuron_50)\n",
        "    # Print accuracy for each class\n",
        "    for i in range(10):\n",
        "        if class_total[i] > 0:\n",
        "            print(f'Accuracy of {classes[i]:>10s}: {100 * class_correct[i] / class_total[i]:.2f}%')\n",
        "        else:\n",
        "            print(f'Accuracy of {classes[i]:>10s}: N/A (no samples)')\n",
        "\n",
        "# Call the evaluation function\n",
        "evaluate_network_50()"
      ],
      "metadata": {
        "colab": {
          "base_uri": "https://localhost:8080/",
          "height": 1000
        },
        "id": "ahQu4g9mjRPO",
        "outputId": "5da70b64-6586-47f9-821a-dfb18329f9f3"
      },
      "execution_count": 34,
      "outputs": [
        {
          "output_type": "stream",
          "name": "stdout",
          "text": [
            "\n",
            "Training with Optimizer (SGD)\n",
            "Epoch [1/30], Loss: 0.0958\n",
            "Epoch [2/30], Loss: 0.0930\n",
            "Epoch [3/30], Loss: 0.0917\n",
            "Epoch [4/30], Loss: 0.0912\n",
            "Epoch [5/30], Loss: 0.0859\n",
            "Epoch [6/30], Loss: 0.0820\n",
            "Epoch [7/30], Loss: 0.0821\n",
            "Epoch [8/30], Loss: 0.0768\n",
            "Epoch [9/30], Loss: 0.0781\n",
            "Epoch [10/30], Loss: 0.0750\n",
            "Epoch [11/30], Loss: 0.0758\n",
            "Epoch [12/30], Loss: 0.0666\n",
            "Epoch [13/30], Loss: 0.0677\n",
            "Epoch [14/30], Loss: 0.0655\n",
            "Epoch [15/30], Loss: 0.0606\n",
            "Epoch [16/30], Loss: 0.0600\n",
            "Epoch [17/30], Loss: 0.0786\n",
            "Epoch [18/30], Loss: 0.0595\n",
            "Epoch [19/30], Loss: 0.0585\n",
            "Epoch [20/30], Loss: 0.0540\n",
            "Epoch [21/30], Loss: 0.0519\n",
            "Epoch [22/30], Loss: 0.0520\n",
            "Epoch [23/30], Loss: 0.0476\n",
            "Epoch [24/30], Loss: 0.0522\n",
            "Epoch [25/30], Loss: 0.0467\n",
            "Epoch [26/30], Loss: 0.0435\n",
            "Epoch [27/30], Loss: 0.0433\n",
            "Epoch [28/30], Loss: 0.0481\n",
            "Epoch [29/30], Loss: 0.0429\n",
            "Epoch [30/30], Loss: 0.0343\n",
            "Finished Training with Optimizer (SGD)\n"
          ]
        },
        {
          "output_type": "display_data",
          "data": {
            "text/plain": [
              "<Figure size 640x480 with 1 Axes>"
            ],
            "image/png": "[encoded data removed]"
          },
          "metadata": {}
        },
        {
          "output_type": "stream",
          "name": "stdout",
          "text": [
            "Overall Accuracy on the test set: 89.65%\n",
            "\n",
            "Accuracy of T-shirt/top: 90.40%\n",
            "Accuracy of    Trouser: 98.00%\n",
            "Accuracy of   Pullover: 84.60%\n",
            "Accuracy of      Dress: 90.50%\n",
            "Accuracy of       Coat: 84.20%\n",
            "Accuracy of     Sandal: 96.70%\n",
            "Accuracy of      Shirt: 64.80%\n",
            "Accuracy of    Sneaker: 97.80%\n",
            "Accuracy of        Bag: 96.00%\n",
            "Accuracy of Ankle boot: 93.50%\n"
          ]
        }
      ]
    },
    {
      "cell_type": "markdown",
      "source": [
        "##### **Observation-**"
      ],
      "metadata": {
        "id": "Hoa51WQCJc7O"
      }
    },
    {
      "cell_type": "markdown",
      "source": [
        "With an overall accuracy of 89.65%, this model is performing well, but there are still some notable variations across different classes.\n",
        "*   Here, the number of neurons in the hidden layer is 50.\n",
        "*   Trouser (98.00%), Sandal (96.70%), Sneaker (97.80%), Bag (96.00%), and Ankle boot (93.50%) are all achieving accuracy close to or above 95%, which indicates strong performance for these items.\n",
        "*   Dress (90.50%) and Pullover (84.60%) are performing reasonably well, but there is room for improvement, especially in the \"Pullover\" class.\n",
        "*   T-shirt/top (90.40%) and Coat (84.20%) have moderate accuracies, while Shirt (64.80%) is significantly lower, showing that the model is struggling with this class.\n"
      ],
      "metadata": {
        "id": "Wo_Gw0hKJiUL"
      }
    },
    {
      "cell_type": "markdown",
      "source": [
        "#### **For, 100 neurons in the hidden layer-**"
      ],
      "metadata": {
        "id": "Jr5c7hYsmXct"
      }
    },
    {
      "cell_type": "code",
      "source": [
        "class SimpleNet100(nn.Module):\n",
        "    def __init__(self):\n",
        "        super(SimpleNet100, self).__init__()\n",
        "        self.fc1 = nn.Linear(28 * 28, 100)\n",
        "        self.relu1 = nn.ReLU()\n",
        "        self.fc2 = nn.Linear(100, 100)\n",
        "        self.relu2 = nn.ReLU()\n",
        "        self.fc3 = nn.Linear(100, 100)\n",
        "        self.relu3 = nn.ReLU()\n",
        "        self.fc4 = nn.Linear(100, 100)\n",
        "        self.relu4 = nn.ReLU()\n",
        "        self.fc5 = nn.Linear(100, 10)  # Output layer\n",
        "\n",
        "    def forward(self, x):\n",
        "        x = x.view(-1, 28 * 28)\n",
        "        x = self.relu1(self.fc1(x))\n",
        "        x = self.relu2(self.fc2(x))\n",
        "        x = self.relu3(self.fc3(x))\n",
        "        x = self.relu4(self.fc4(x))\n",
        "        x = self.fc5(x)\n",
        "        return x\n",
        "\n",
        "net_100 = SimpleNet100()\n",
        "\n",
        "# Define loss function and optimizer\n",
        "criterion_100 = nn.CrossEntropyLoss()\n",
        "optimizer_100 = optim.SGD(net.parameters(), lr=0.01)  # Using Stochastic gradient descent optimizer\n",
        "\n",
        "#Training Function Using SGD Optimizer\n",
        "#Train the network for 30 epochs\n",
        "def train_with_optimizer_100(net_100, optimizer_100, criterion_100, num_epochs=30):\n",
        "    print(\"\\nTraining with Optimizer (SGD)\")\n",
        "    net.train()\n",
        "\n",
        "    train_losses = []\n",
        "    for epoch in range(num_epochs):\n",
        "        running_loss = 0.0\n",
        "        for inputs, labels in trainloader:\n",
        "            optimizer.zero_grad()\n",
        "            outputs = net(inputs)\n",
        "            loss = criterion(outputs, labels)\n",
        "            loss.backward()\n",
        "            optimizer.step()\n",
        "            running_loss += loss.item()\n",
        "        epoch_loss = running_loss / len(trainloader)\n",
        "        train_losses.append(epoch_loss)\n",
        "        print(f\"Epoch [{epoch + 1}/{num_epochs}], Loss: {epoch_loss:.4f}\")\n",
        "\n",
        "    print('Finished Training with Optimizer (SGD)')\n",
        "    return train_losses\n",
        "\n",
        "# Train the network\n",
        "losses_with_optimizer_100 = train_with_optimizer_100(net_100, optimizer_100, criterion_100, num_epochs=30)\n",
        "\n",
        "# Plot the training losses\n",
        "plt.figure()\n",
        "plt.plot(losses_with_optimizer, label='Training Loss with SGD Optimizer')\n",
        "plt.title('Training Loss with SGD Optimizer')\n",
        "plt.xlabel('Epoch')\n",
        "plt.ylabel('Loss')\n",
        "plt.legend()\n",
        "plt.grid(True)\n",
        "plt.show()\n",
        "\n",
        "# Evaluating the Final Model\n",
        "\n",
        "def evaluate_network_100():\n",
        "    net_100.eval()\n",
        "    correct = 0\n",
        "    total = 0\n",
        "    class_correct = [0] * 10\n",
        "    class_total = [0] * 10\n",
        "    with torch.no_grad():\n",
        "        for inputs, labels in testloader:\n",
        "            outputs = net(inputs)\n",
        "            _, predicted = torch.max(outputs, 1)\n",
        "            total += labels.size(0)\n",
        "            correct += (predicted == labels).sum().item()\n",
        "            # Per-class accuracy\n",
        "            c = (predicted == labels).squeeze()\n",
        "            for i in range(len(labels)):\n",
        "                label = labels[i]\n",
        "                class_correct[label] += c[i].item()\n",
        "                class_total[label] += 1\n",
        "\n",
        "    accuracy_neuron_100= (f'{100 * correct / total:.2f}%')\n",
        "    print(f'Overall Accuracy on the test set: {accuracy_neuron_100}\\n')\n",
        "    Overall_Accuracy.append(accuracy_neuron_100)\n",
        "    # Print accuracy for each class\n",
        "    for i in range(10):\n",
        "        if class_total[i] > 0:\n",
        "            print(f'Accuracy of {classes[i]:>10s}: {100 * class_correct[i] / class_total[i]:.2f}%')\n",
        "        else:\n",
        "            print(f'Accuracy of {classes[i]:>10s}: N/A (no samples)')\n",
        "\n",
        "# Call the evaluation function\n",
        "evaluate_network_100()"
      ],
      "metadata": {
        "colab": {
          "base_uri": "https://localhost:8080/",
          "height": 1000
        },
        "id": "le2KeLSFmhpi",
        "outputId": "ae209931-ff7a-4373-aea3-cff7714919e5"
      },
      "execution_count": 35,
      "outputs": [
        {
          "output_type": "stream",
          "name": "stdout",
          "text": [
            "\n",
            "Training with Optimizer (SGD)\n",
            "Epoch [1/30], Loss: 0.0395\n",
            "Epoch [2/30], Loss: 0.0352\n",
            "Epoch [3/30], Loss: 0.0340\n",
            "Epoch [4/30], Loss: 0.0370\n",
            "Epoch [5/30], Loss: 0.0354\n",
            "Epoch [6/30], Loss: 0.0346\n",
            "Epoch [7/30], Loss: 0.0398\n",
            "Epoch [8/30], Loss: 0.0298\n",
            "Epoch [9/30], Loss: 0.0313\n",
            "Epoch [10/30], Loss: 0.0294\n",
            "Epoch [11/30], Loss: 0.0418\n",
            "Epoch [12/30], Loss: 0.0416\n",
            "Epoch [13/30], Loss: 0.0259\n",
            "Epoch [14/30], Loss: 0.0170\n",
            "Epoch [15/30], Loss: 0.0209\n",
            "Epoch [16/30], Loss: 0.0239\n",
            "Epoch [17/30], Loss: 0.0260\n",
            "Epoch [18/30], Loss: 0.0287\n",
            "Epoch [19/30], Loss: 0.0245\n",
            "Epoch [20/30], Loss: 0.0147\n",
            "Epoch [21/30], Loss: 0.0088\n",
            "Epoch [22/30], Loss: 0.0094\n",
            "Epoch [23/30], Loss: 0.0103\n",
            "Epoch [24/30], Loss: 0.0049\n",
            "Epoch [25/30], Loss: 0.0117\n",
            "Epoch [26/30], Loss: 0.0092\n",
            "Epoch [27/30], Loss: 0.0402\n",
            "Epoch [28/30], Loss: 0.0271\n",
            "Epoch [29/30], Loss: 0.0203\n",
            "Epoch [30/30], Loss: 0.0159\n",
            "Finished Training with Optimizer (SGD)\n"
          ]
        },
        {
          "output_type": "display_data",
          "data": {
            "text/plain": [
              "<Figure size 640x480 with 1 Axes>"
            ],
            "image/png": "[encoded data removed]"
          },
          "metadata": {}
        },
        {
          "output_type": "stream",
          "name": "stdout",
          "text": [
            "Overall Accuracy on the test set: 88.67%\n",
            "\n",
            "Accuracy of T-shirt/top: 82.80%\n",
            "Accuracy of    Trouser: 96.90%\n",
            "Accuracy of   Pullover: 83.80%\n",
            "Accuracy of      Dress: 94.00%\n",
            "Accuracy of       Coat: 72.20%\n",
            "Accuracy of     Sandal: 95.40%\n",
            "Accuracy of      Shirt: 72.20%\n",
            "Accuracy of    Sneaker: 97.20%\n",
            "Accuracy of        Bag: 96.50%\n",
            "Accuracy of Ankle boot: 95.70%\n"
          ]
        }
      ]
    },
    {
      "cell_type": "markdown",
      "source": [
        "##### **Observation-**"
      ],
      "metadata": {
        "id": "rMEefif8Kjt1"
      }
    },
    {
      "cell_type": "markdown",
      "source": [
        "With an overall accuracy of 88.67%, this model is showing continued improvement, especially for classes that previously had lower accuracy.\n",
        "\n",
        "*   Here, the number of neurons in the hidden layer is 100.\n",
        "*   Trouser (96.90%), Sandal (95.40%), Sneaker (97.20%), Bag (96.50%), and Ankle boot (95.70%) continue to perform well, with accuracies close to or above 96%, indicating strong generalization for these categories.\n",
        "*   T-shirt/top (82.80%), Pullover (83.80%), and Dress (94.00%) are performing well but have slightly lower accuracy. These classes are improving and are now in the mid-to-high 80% range.\n",
        "*   Coat (72.20%) is still moderately low, and Shirt (72.20%) remains the weakest class, though it has slightly improved from previous iterations (up from 68.70%).\n"
      ],
      "metadata": {
        "id": "hVnHeGNkKo65"
      }
    },
    {
      "cell_type": "markdown",
      "source": [
        "#### **Comparison**"
      ],
      "metadata": {
        "id": "s6NnwjVKo6BG"
      }
    },
    {
      "cell_type": "code",
      "source": [
        "# Remove the '%' sign and convert to float\n",
        "Overall_Accuracy = [float(acc.strip('%')) for acc in Overall_Accuracy]"
      ],
      "metadata": {
        "id": "Qn6s5dfjruKu"
      },
      "execution_count": null,
      "outputs": []
    },
    {
      "cell_type": "code",
      "source": [
        "# Create the dictionary with the Neuron and Overall_Accuracy values\n",
        "d = {\n",
        "    'Neuron': ['512', '10', '50', '100'],\n",
        "    'Overall_Accuracy': Overall_Accuracy\n",
        "}\n",
        "\n",
        "# Convert dictionary to DataFrame\n",
        "d = pd.DataFrame(d)\n",
        "\n",
        "# Round the Overall_Accuracy values to 2 decimal places\n",
        "d['Overall_Accuracy'] = d['Overall_Accuracy'].round(2)\n",
        "\n",
        "# Display the DataFrame in Google Colab\n",
        "from IPython.display import display\n",
        "display(d)"
      ],
      "metadata": {
        "colab": {
          "base_uri": "https://localhost:8080/",
          "height": 175
        },
        "id": "UQV1SZ7qsJep",
        "outputId": "ebcb7b94-fd44-4d56-f778-f023c6b1d34b"
      },
      "execution_count": 49,
      "outputs": [
        {
          "output_type": "display_data",
          "data": {
            "text/plain": [
              "  Neuron  Overall_Accuracy\n",
              "0    512             88.29\n",
              "1     10             88.23\n",
              "2     50             89.65\n",
              "3    100             88.67"
            ],
            "text/html": [
              "\n",
              "  <div id=\"df-3b7fe34e-847f-4502-b1a1-61952e1385f8\" class=\"colab-df-container\">\n",
              "    <div>\n",
              "<style scoped>\n",
              "    .dataframe tbody tr th:only-of-type {\n",
              "        vertical-align: middle;\n",
              "    }\n",
              "\n",
              "    .dataframe tbody tr th {\n",
              "        vertical-align: top;\n",
              "    }\n",
              "\n",
              "    .dataframe thead th {\n",
              "        text-align: right;\n",
              "    }\n",
              "</style>\n",
              "<table border=\"1\" class=\"dataframe\">\n",
              "  <thead>\n",
              "    <tr style=\"text-align: right;\">\n",
              "      <th></th>\n",
              "      <th>Neuron</th>\n",
              "      <th>Overall_Accuracy</th>\n",
              "    </tr>\n",
              "  </thead>\n",
              "  <tbody>\n",
              "    <tr>\n",
              "      <th>0</th>\n",
              "      <td>512</td>\n",
              "      <td>88.29</td>\n",
              "    </tr>\n",
              "    <tr>\n",
              "      <th>1</th>\n",
              "      <td>10</td>\n",
              "      <td>88.23</td>\n",
              "    </tr>\n",
              "    <tr>\n",
              "      <th>2</th>\n",
              "      <td>50</td>\n",
              "      <td>89.65</td>\n",
              "    </tr>\n",
              "    <tr>\n",
              "      <th>3</th>\n",
              "      <td>100</td>\n",
              "      <td>88.67</td>\n",
              "    </tr>\n",
              "  </tbody>\n",
              "</table>\n",
              "</div>\n",
              "    <div class=\"colab-df-buttons\">\n",
              "\n",
              "  <div class=\"colab-df-container\">\n",
              "    <button class=\"colab-df-convert\" onclick=\"convertToInteractive('df-3b7fe34e-847f-4502-b1a1-61952e1385f8')\"\n",
              "            title=\"Convert this dataframe to an interactive table.\"\n",
              "            style=\"display:none;\">\n",
              "\n",
              "  <svg xmlns=\"http://www.w3.org/2000/svg\" height=\"24px\" viewBox=\"0 -960 960 960\">\n",
              "    <path d=\"M120-120v-720h720v720H120Zm60-500h600v-160H180v160Zm220 220h160v-160H400v160Zm0 220h160v-160H400v160ZM180-400h160v-160H180v160Zm440 0h160v-160H620v160ZM180-180h160v-160H180v160Zm440 0h160v-160H620v160Z\"/>\n",
              "  </svg>\n",
              "    </button>\n",
              "\n",
              "  <style>\n",
              "    .colab-df-container {\n",
              "      display:flex;\n",
              "      gap: 12px;\n",
              "    }\n",
              "\n",
              "    .colab-df-convert {\n",
              "      background-color: #E8F0FE;\n",
              "      border: none;\n",
              "      border-radius: 50%;\n",
              "      cursor: pointer;\n",
              "      display: none;\n",
              "      fill: #1967D2;\n",
              "      height: 32px;\n",
              "      padding: 0 0 0 0;\n",
              "      width: 32px;\n",
              "    }\n",
              "\n",
              "    .colab-df-convert:hover {\n",
              "      background-color: #E2EBFA;\n",
              "      box-shadow: 0px 1px 2px rgba(60, 64, 67, 0.3), 0px 1px 3px 1px rgba(60, 64, 67, 0.15);\n",
              "      fill: #174EA6;\n",
              "    }\n",
              "\n",
              "    .colab-df-buttons div {\n",
              "      margin-bottom: 4px;\n",
              "    }\n",
              "\n",
              "    [theme=dark] .colab-df-convert {\n",
              "      background-color: #3B4455;\n",
              "      fill: #D2E3FC;\n",
              "    }\n",
              "\n",
              "    [theme=dark] .colab-df-convert:hover {\n",
              "      background-color: #434B5C;\n",
              "      box-shadow: 0px 1px 3px 1px rgba(0, 0, 0, 0.15);\n",
              "      filter: drop-shadow(0px 1px 2px rgba(0, 0, 0, 0.3));\n",
              "      fill: #FFFFFF;\n",
              "    }\n",
              "  </style>\n",
              "\n",
              "    <script>\n",
              "      const buttonEl =\n",
              "        document.querySelector('#df-3b7fe34e-847f-4502-b1a1-61952e1385f8 button.colab-df-convert');\n",
              "      buttonEl.style.display =\n",
              "        google.colab.kernel.accessAllowed ? 'block' : 'none';\n",
              "\n",
              "      async function convertToInteractive(key) {\n",
              "        const element = document.querySelector('#df-3b7fe34e-847f-4502-b1a1-61952e1385f8');\n",
              "        const dataTable =\n",
              "          await google.colab.kernel.invokeFunction('convertToInteractive',\n",
              "                                                    [key], {});\n",
              "        if (!dataTable) return;\n",
              "\n",
              "        const docLinkHtml = 'Like what you see? Visit the ' +\n",
              "          '<a target=\"_blank\" href=https://colab.research.google.com/notebooks/data_table.ipynb>data table notebook</a>'\n",
              "          + ' to learn more about interactive tables.';\n",
              "        element.innerHTML = '';\n",
              "        dataTable['output_type'] = 'display_data';\n",
              "        await google.colab.output.renderOutput(dataTable, element);\n",
              "        const docLink = document.createElement('div');\n",
              "        docLink.innerHTML = docLinkHtml;\n",
              "        element.appendChild(docLink);\n",
              "      }\n",
              "    </script>\n",
              "  </div>\n",
              "\n",
              "\n",
              "<div id=\"df-1cc75d84-0e60-4839-8585-fe93d973ce4b\">\n",
              "  <button class=\"colab-df-quickchart\" onclick=\"quickchart('df-1cc75d84-0e60-4839-8585-fe93d973ce4b')\"\n",
              "            title=\"Suggest charts\"\n",
              "            style=\"display:none;\">\n",
              "\n",
              "<svg xmlns=\"http://www.w3.org/2000/svg\" height=\"24px\"viewBox=\"0 0 24 24\"\n",
              "     width=\"24px\">\n",
              "    <g>\n",
              "        <path d=\"M19 3H5c-1.1 0-2 .9-2 2v14c0 1.1.9 2 2 2h14c1.1 0 2-.9 2-2V5c0-1.1-.9-2-2-2zM9 17H7v-7h2v7zm4 0h-2V7h2v10zm4 0h-2v-4h2v4z\"/>\n",
              "    </g>\n",
              "</svg>\n",
              "  </button>\n",
              "\n",
              "<style>\n",
              "  .colab-df-quickchart {\n",
              "      --bg-color: #E8F0FE;\n",
              "      --fill-color: #1967D2;\n",
              "      --hover-bg-color: #E2EBFA;\n",
              "      --hover-fill-color: #174EA6;\n",
              "      --disabled-fill-color: #AAA;\n",
              "      --disabled-bg-color: #DDD;\n",
              "  }\n",
              "\n",
              "  [theme=dark] .colab-df-quickchart {\n",
              "      --bg-color: #3B4455;\n",
              "      --fill-color: #D2E3FC;\n",
              "      --hover-bg-color: #434B5C;\n",
              "      --hover-fill-color: #FFFFFF;\n",
              "      --disabled-bg-color: #3B4455;\n",
              "      --disabled-fill-color: #666;\n",
              "  }\n",
              "\n",
              "  .colab-df-quickchart {\n",
              "    background-color: var(--bg-color);\n",
              "    border: none;\n",
              "    border-radius: 50%;\n",
              "    cursor: pointer;\n",
              "    display: none;\n",
              "    fill: var(--fill-color);\n",
              "    height: 32px;\n",
              "    padding: 0;\n",
              "    width: 32px;\n",
              "  }\n",
              "\n",
              "  .colab-df-quickchart:hover {\n",
              "    background-color: var(--hover-bg-color);\n",
              "    box-shadow: 0 1px 2px rgba(60, 64, 67, 0.3), 0 1px 3px 1px rgba(60, 64, 67, 0.15);\n",
              "    fill: var(--button-hover-fill-color);\n",
              "  }\n",
              "\n",
              "  .colab-df-quickchart-complete:disabled,\n",
              "  .colab-df-quickchart-complete:disabled:hover {\n",
              "    background-color: var(--disabled-bg-color);\n",
              "    fill: var(--disabled-fill-color);\n",
              "    box-shadow: none;\n",
              "  }\n",
              "\n",
              "  .colab-df-spinner {\n",
              "    border: 2px solid var(--fill-color);\n",
              "    border-color: transparent;\n",
              "    border-bottom-color: var(--fill-color);\n",
              "    animation:\n",
              "      spin 1s steps(1) infinite;\n",
              "  }\n",
              "\n",
              "  @keyframes spin {\n",
              "    0% {\n",
              "      border-color: transparent;\n",
              "      border-bottom-color: var(--fill-color);\n",
              "      border-left-color: var(--fill-color);\n",
              "    }\n",
              "    20% {\n",
              "      border-color: transparent;\n",
              "      border-left-color: var(--fill-color);\n",
              "      border-top-color: var(--fill-color);\n",
              "    }\n",
              "    30% {\n",
              "      border-color: transparent;\n",
              "      border-left-color: var(--fill-color);\n",
              "      border-top-color: var(--fill-color);\n",
              "      border-right-color: var(--fill-color);\n",
              "    }\n",
              "    40% {\n",
              "      border-color: transparent;\n",
              "      border-right-color: var(--fill-color);\n",
              "      border-top-color: var(--fill-color);\n",
              "    }\n",
              "    60% {\n",
              "      border-color: transparent;\n",
              "      border-right-color: var(--fill-color);\n",
              "    }\n",
              "    80% {\n",
              "      border-color: transparent;\n",
              "      border-right-color: var(--fill-color);\n",
              "      border-bottom-color: var(--fill-color);\n",
              "    }\n",
              "    90% {\n",
              "      border-color: transparent;\n",
              "      border-bottom-color: var(--fill-color);\n",
              "    }\n",
              "  }\n",
              "</style>\n",
              "\n",
              "  <script>\n",
              "    async function quickchart(key) {\n",
              "      const quickchartButtonEl =\n",
              "        document.querySelector('#' + key + ' button');\n",
              "      quickchartButtonEl.disabled = true;  // To prevent multiple clicks.\n",
              "      quickchartButtonEl.classList.add('colab-df-spinner');\n",
              "      try {\n",
              "        const charts = await google.colab.kernel.invokeFunction(\n",
              "            'suggestCharts', [key], {});\n",
              "      } catch (error) {\n",
              "        console.error('Error during call to suggestCharts:', error);\n",
              "      }\n",
              "      quickchartButtonEl.classList.remove('colab-df-spinner');\n",
              "      quickchartButtonEl.classList.add('colab-df-quickchart-complete');\n",
              "    }\n",
              "    (() => {\n",
              "      let quickchartButtonEl =\n",
              "        document.querySelector('#df-1cc75d84-0e60-4839-8585-fe93d973ce4b button');\n",
              "      quickchartButtonEl.style.display =\n",
              "        google.colab.kernel.accessAllowed ? 'block' : 'none';\n",
              "    })();\n",
              "  </script>\n",
              "</div>\n",
              "\n",
              "  <div id=\"id_62c21015-5738-46df-9f94-a9ea79aabcbf\">\n",
              "    <style>\n",
              "      .colab-df-generate {\n",
              "        background-color: #E8F0FE;\n",
              "        border: none;\n",
              "        border-radius: 50%;\n",
              "        cursor: pointer;\n",
              "        display: none;\n",
              "        fill: #1967D2;\n",
              "        height: 32px;\n",
              "        padding: 0 0 0 0;\n",
              "        width: 32px;\n",
              "      }\n",
              "\n",
              "      .colab-df-generate:hover {\n",
              "        background-color: #E2EBFA;\n",
              "        box-shadow: 0px 1px 2px rgba(60, 64, 67, 0.3), 0px 1px 3px 1px rgba(60, 64, 67, 0.15);\n",
              "        fill: #174EA6;\n",
              "      }\n",
              "\n",
              "      [theme=dark] .colab-df-generate {\n",
              "        background-color: #3B4455;\n",
              "        fill: #D2E3FC;\n",
              "      }\n",
              "\n",
              "      [theme=dark] .colab-df-generate:hover {\n",
              "        background-color: #434B5C;\n",
              "        box-shadow: 0px 1px 3px 1px rgba(0, 0, 0, 0.15);\n",
              "        filter: drop-shadow(0px 1px 2px rgba(0, 0, 0, 0.3));\n",
              "        fill: #FFFFFF;\n",
              "      }\n",
              "    </style>\n",
              "    <button class=\"colab-df-generate\" onclick=\"generateWithVariable('d')\"\n",
              "            title=\"Generate code using this dataframe.\"\n",
              "            style=\"display:none;\">\n",
              "\n",
              "  <svg xmlns=\"http://www.w3.org/2000/svg\" height=\"24px\"viewBox=\"0 0 24 24\"\n",
              "       width=\"24px\">\n",
              "    <path d=\"M7,19H8.4L18.45,9,17,7.55,7,17.6ZM5,21V16.75L18.45,3.32a2,2,0,0,1,2.83,0l1.4,1.43a1.91,1.91,0,0,1,.58,1.4,1.91,1.91,0,0,1-.58,1.4L9.25,21ZM18.45,9,17,7.55Zm-12,3A5.31,5.31,0,0,0,4.9,8.1,5.31,5.31,0,0,0,1,6.5,5.31,5.31,0,0,0,4.9,4.9,5.31,5.31,0,0,0,6.5,1,5.31,5.31,0,0,0,8.1,4.9,5.31,5.31,0,0,0,12,6.5,5.46,5.46,0,0,0,6.5,12Z\"/>\n",
              "  </svg>\n",
              "    </button>\n",
              "    <script>\n",
              "      (() => {\n",
              "      const buttonEl =\n",
              "        document.querySelector('#id_62c21015-5738-46df-9f94-a9ea79aabcbf button.colab-df-generate');\n",
              "      buttonEl.style.display =\n",
              "        google.colab.kernel.accessAllowed ? 'block' : 'none';\n",
              "\n",
              "      buttonEl.onclick = () => {\n",
              "        google.colab.notebook.generateWithVariable('d');\n",
              "      }\n",
              "      })();\n",
              "    </script>\n",
              "  </div>\n",
              "\n",
              "    </div>\n",
              "  </div>\n"
            ],
            "application/vnd.google.colaboratory.intrinsic+json": {
              "type": "dataframe",
              "variable_name": "d",
              "summary": "{\n  \"name\": \"d\",\n  \"rows\": 4,\n  \"fields\": [\n    {\n      \"column\": \"Neuron\",\n      \"properties\": {\n        \"dtype\": \"string\",\n        \"num_unique_values\": 4,\n        \"samples\": [\n          \"10\",\n          \"100\",\n          \"512\"\n        ],\n        \"semantic_type\": \"\",\n        \"description\": \"\"\n      }\n    },\n    {\n      \"column\": \"Overall_Accuracy\",\n      \"properties\": {\n        \"dtype\": \"number\",\n        \"std\": 0.6562519841239851,\n        \"min\": 88.23,\n        \"max\": 89.65,\n        \"num_unique_values\": 4,\n        \"samples\": [\n          88.23,\n          88.67,\n          88.29\n        ],\n        \"semantic_type\": \"\",\n        \"description\": \"\"\n      }\n    }\n  ]\n}"
            }
          },
          "metadata": {}
        }
      ]
    },
    {
      "cell_type": "markdown",
      "source": [
        "##### **For Neuron 512, 256, 128, and 64-**\n",
        "\n",
        "*   **Overall Accuracy:** 88.29%\n",
        "*   **Highest Accuracies:** \"Sandal\" (96.90%), \"Bag\" (96.50%), \"Trouser\" (96.60%)\n",
        "*   **Lowest Accuracy:** \"Shirt\" (66.50%), \"Coat\" (74.40%)\n",
        "*   **Increased Representation Power:**\n",
        "Increasing the number of neurons in the hidden layers (512 → 256 → 128 → 64) allows the model to capture more complex patterns in the data, leading to high accuracy in some classes like Sandal, Bag, and Trouser (above 96%).\n",
        "*   **Overfitting to Certain Classes:**\n",
        "With a more complex model, there might be a risk of overfitting to specific classes. For instance, T-shirt/top (88.40%) and Pullover (84.40%) have good accuracy, but simpler classes like \"Shirt\" (66.50%) and \"Coat\" (74.40%) may not benefit as much from the additional model capacity.\n",
        "*   **Diminishing Returns in Accuracy:**\n",
        "As model complexity increases, the overall accuracy improvement plateaus. Although there's an improvement from simpler models, the accuracy on certain difficult classes like Shirt remains low despite increasing the model's complexity.\n",
        "*   **Sensitivity to Hyperparameters:**\n",
        "With more layers and neurons, the model becomes more sensitive to hyperparameters like the learning rate and optimizer settings. Fine-tuning parameters like learning rate, regularization, and dropout becomes critical to prevent overfitting and maximize generalization.\n",
        "*   **Increased Computational Cost:**\n",
        "Increasing the number of neurons significantly increases the training time and computational resources needed. While this complexity brings improvement for some classes, simpler models might provide nearly comparable performance at a lower computational cost for other tasks.\n",
        "\n",
        "\n",
        "\n",
        "\n",
        "\n",
        "\n",
        "\n"
      ],
      "metadata": {
        "id": "dp2jzbdGFkDl"
      }
    },
    {
      "cell_type": "markdown",
      "source": [
        "##### **For Neuron 10-**\n",
        "*   **Overall Accuracy:** 88.23%\n",
        "*   **Best-performing Classes:** Trouser (97.20%), Ankle boot (96.70%), Bag (96.80%)\n",
        "*   **Struggling Classes:** Pullover (68.80%), Shirt (74.80%)\n",
        "*   **Higher Neurons in Hidden Layers Enhance Learning Capacity:**\n",
        "Increasing the number of neurons beyond 10 provides the model with a larger capacity to learn more complex features and patterns, which may improve performance for harder-to-classify classes (e.g., Pullover (68.80%) and Shirt (74.80%)).\n",
        "*   **Overfitting Risk:**\n",
        "As model complexity increases (more neurons or layers), there is a risk of overfitting, especially if the dataset is small. Overfitting could lead to lower generalization on the test set, despite higher accuracy on the training set.\n",
        "*   **Improved Accuracy for Certain Classes:**\n",
        "Increasing neurons often improves the performance for classes that the model struggles with, such as Pullover and Shirt, because a more complex model can better distinguish subtle differences in these classes.\n",
        "*   **Training Time and Resource Demands:**\n",
        "More neurons mean more parameters, which increases computational demands. Training time will increase significantly as you scale up the number of neurons or layers."
      ],
      "metadata": {
        "id": "Evo6GNonpV00"
      }
    },
    {
      "cell_type": "markdown",
      "source": [
        "##### **For Neuron 50-**\n",
        "\n",
        "*   **Overall Accuracy:** 89.65%\n",
        "*   **Best-performing Classes:** Trouser: (98.00%), Sneaker: (97.80%), Sandal: (96.70%).\n",
        "*   **Struggling Classes:** Shirt: (64.80%), Coat: (84.20%), Pullover: (84.60%).\n",
        "*   **Improved Overall Accuracy:**\n",
        "With a hidden layer of 50 neurons and ReLU activation, your overall accuracy reached 89.65%. This shows that the model is capturing patterns better, but more complex models may overfit without careful tuning.\n",
        "*   **High Accuracy for Clear Categories:**\n",
        "Categories like Trouser (98%), Sneaker (97.8%), and Sandal (96.7%) are highly accurate. This suggests the current model complexity is sufficient for well-defined features in these categories.\n",
        "*   **Impact on Training Time:**\n",
        "More complex models (with more neurons or layers) will generally require longer training times and may need more data for optimal performance. You're training for 30 epochs, which may need to increase with more complexity to reach convergence.\n",
        "*   **Overfitting Risk:**\n",
        "The high accuracy for classes like Trouser and Sneaker combined with lower accuracy for classes like Shirt indicates that the model could be overfitting certain classes. Adding regularization techniques or adjusting model complexity can help balance performance across all classes.\n",
        "\n",
        "\n",
        "\n"
      ],
      "metadata": {
        "id": "TpCL4VUhLMVL"
      }
    },
    {
      "cell_type": "markdown",
      "source": [
        "##### **For Neuron 100-**\n",
        "\n",
        "*   **Overall Accuracy:** 88.67%\n",
        "*   **Best-performing Classes:** Sneaker: (97.20%), Trouser: (96.90%), Bag: (96.50%).\n",
        "*   **Struggling Classes:** Shirt: (72.20%), Coat: (72.20%), T-shirt/top: (82.80%).\n",
        "  \n",
        "*   **Improved Overall Performance:**\n",
        "Increasing the number of neurons from 50 to 100 generally allows the model to learn more complex patterns in the data, which can lead to better overall accuracy. In this case, your overall accuracy improved to 88.67%.\n",
        "\n",
        "\n",
        "*   **Enhanced Class Distinction:**\n",
        "Some classes (e.g., \"Trouser\" and \"Dress\") show very high accuracy, indicating that the model benefits from increased capacity to differentiate between similar classes. However, some classes (e.g., \"Coat\" and \"Shirt\") still struggle, suggesting that merely increasing complexity doesn’t guarantee improvement for all classes.\n",
        "\n",
        "*   **Risk of Overfitting:**\n",
        "With more neurons, there’s a higher risk of overfitting, especially if the training data is limited. This could lead to good training performance but poorer generalization on the test set. Monitoring loss values, as shown in our training output, is essential to catch overfitting early.\n",
        "\n",
        "*   **Increased Training Time and Resource Demand:**\n",
        "More complexity typically leads to longer training times and increased computational resources required. While your loss values appear to decrease steadily, it's essential to balance complexity with the efficiency of training.\n",
        "\n",
        "\n",
        "\n"
      ],
      "metadata": {
        "id": "pdW6hy9DMztH"
      }
    },
    {
      "cell_type": "markdown",
      "source": [
        "##### **Summary-**\n",
        "*   **Neuron = 10:**\n",
        " *   **Overall Accuracy:** 88.23%\n",
        " *   **Observation:** Minimal complexity leads to decent accuracy, but limited capacity may restrict learning.\n",
        "\n",
        "*   **Neuron = 50:**\n",
        " *   **Overall Accuracy:** 89.65%\n",
        " *   **Observation:** This configuration provides the best performance, suggesting an optimal balance between model complexity and generalization.\n",
        "\n",
        "*   **Neuron = 100:**\n",
        " *   **Overall Accuracy:** 88.67%\n",
        " *   **Observation:** Slightly lower accuracy than 50 neurons, indicating potential overfitting or diminishing returns from increased complexity.\n",
        "\n",
        "*   **Neuron = 512:**\n",
        " *   **Overall Accuracy:** 88.29%\n",
        " *   **Observation:** High complexity with 512 neurons does not significantly improve accuracy compared to 50 neurons, suggesting overfitting may be a concern."
      ],
      "metadata": {
        "id": "Gal8AWICUtAn"
      }
    },
    {
      "cell_type": "markdown",
      "source": [
        "### **Step 7: Regularization Techniques-**"
      ],
      "metadata": {
        "id": "qjPVgnKnxzVo"
      }
    },
    {
      "cell_type": "code",
      "source": [
        "# Defining the Neural Network with Dropout\n",
        "\n",
        "class NetWithDropout(nn.Module):\n",
        "    def __init__(self):\n",
        "        super(NetWithDropout, self).__init__()\n",
        "        self.fc1 = nn.Linear(28 * 28, 256)\n",
        "        self.dropout1 = nn.Dropout(0.5)\n",
        "        self.relu1 = nn.ReLU()\n",
        "        self.fc2 = nn.Linear(256, 128)\n",
        "        self.dropout2 = nn.Dropout(0.5)\n",
        "        self.relu2 = nn.ReLU()\n",
        "        self.fc3 = nn.Linear(128, 64)\n",
        "        self.dropout3 = nn.Dropout(0.5)\n",
        "        self.relu3 = nn.ReLU()\n",
        "        self.fc4 = nn.Linear(64, 10)  # 10 output classes\n",
        "\n",
        "    def forward(self, x):\n",
        "        x = x.view(-1, 28 * 28)  # Flatten the images\n",
        "        x = self.dropout1(self.relu1(self.fc1(x)))\n",
        "        x = self.dropout2(self.relu2(self.fc2(x)))\n",
        "        x = self.dropout3(self.relu3(self.fc3(x)))\n",
        "        x = self.fc4(x)  # Output layer (no activation, will use CrossEntropyLoss)\n",
        "        return x\n",
        "\n",
        "# Initialize the network with dropout\n",
        "net = NetWithDropout()\n",
        "\n",
        "# Define the loss function (Cross-Entropy Loss) and optimizer\n",
        "criterion = nn.CrossEntropyLoss()\n",
        "\n",
        "# L2 Regularization using weight_decay in the optimizer\n",
        "optimizer_l2 = optim.SGD(net.parameters(), lr=0.01, weight_decay=0.01)  # L2 regularization\n",
        "\n",
        "# Function for training with L2 regularization (via weight_decay)\n",
        "def train_with_l2_regularization(net, optimizer, criterion, num_epochs=30):\n",
        "    print(\"\\nTraining with L2 Regularization\")\n",
        "    train_losses = []\n",
        "\n",
        "    for epoch in range(num_epochs):\n",
        "        net.train()\n",
        "        running_loss = 0.0\n",
        "        for inputs, labels in trainloader:\n",
        "            optimizer.zero_grad()         # Zero gradients\n",
        "            outputs = net(inputs)         # Forward pass\n",
        "            loss = criterion(outputs, labels)  # Compute loss\n",
        "            loss.backward()               # Backpropagation\n",
        "            optimizer.step()              # Update weights\n",
        "            running_loss += loss.item()\n",
        "\n",
        "        epoch_loss = running_loss / len(trainloader)\n",
        "        train_losses.append(epoch_loss)\n",
        "        print(f\"Epoch [{epoch + 1}/{num_epochs}], Loss: {epoch_loss:.4f}\")\n",
        "\n",
        "    return train_losses\n",
        "\n",
        "# Train the model with L2 regularization\n",
        "train_losses_l2 = train_with_l2_regularization(net, optimizer_l2, criterion, num_epochs=30)\n",
        "\n",
        "# Plot the training loss for L2 regularization\n",
        "plt.figure()\n",
        "plt.plot(train_losses_l2, label='L2 Regularization (weight_decay)')\n",
        "plt.title('Training Loss with L2 Regularization')\n",
        "plt.xlabel('Epoch')\n",
        "plt.ylabel('Loss')\n",
        "plt.legend()\n",
        "plt.grid(True)\n",
        "plt.show()\n",
        "\n",
        "# Evaluating the Final Model\n",
        "\n",
        "def evaluate_network():\n",
        "    net.eval()\n",
        "    correct = 0\n",
        "    total = 0\n",
        "    class_correct = [0] * 10\n",
        "    class_total = [0] * 10\n",
        "    with torch.no_grad():\n",
        "        for inputs, labels in testloader:\n",
        "            outputs = net(inputs)\n",
        "            _, predicted = torch.max(outputs, 1)\n",
        "            total += labels.size(0)\n",
        "            correct += (predicted == labels).sum().item()\n",
        "            # Per-class accuracy\n",
        "            c = (predicted == labels).squeeze()\n",
        "            for i in range(len(labels)):\n",
        "                label = labels[i]\n",
        "                class_correct[label] += c[i].item()\n",
        "                class_total[label] += 1\n",
        "\n",
        "    accuracy_L2_regularization= (f'{100 * correct / total:.2f}%')\n",
        "    print(f'Overall Accuracy on the test set: {accuracy_L2_regularization}\\n')\n",
        "    # Print accuracy for each class\n",
        "    for i in range(10):\n",
        "        if class_total[i] > 0:\n",
        "            print(f'Accuracy of {classes[i]:>10s}: {100 * class_correct[i] / class_total[i]:.2f}%')\n",
        "        else:\n",
        "            print(f'Accuracy of {classes[i]:>10s}: N/A (no samples)')\n",
        "\n",
        "# Evaluate the model trained with L2 regularization\n",
        "print(\"\\nEvaluating model trained with L2 regularization:\")\n",
        "evaluate_network()\n",
        "\n"
      ],
      "metadata": {
        "id": "xY0SHr0dyDjb",
        "colab": {
          "base_uri": "https://localhost:8080/",
          "height": 1000
        },
        "outputId": "b081ea22-94e0-48ad-8ab4-4dd2649b02ee"
      },
      "execution_count": 50,
      "outputs": [
        {
          "output_type": "stream",
          "name": "stdout",
          "text": [
            "\n",
            "Training with L2 Regularization\n",
            "Epoch [1/30], Loss: 1.8574\n",
            "Epoch [2/30], Loss: 1.0831\n",
            "Epoch [3/30], Loss: 0.8830\n",
            "Epoch [4/30], Loss: 0.7984\n",
            "Epoch [5/30], Loss: 0.7484\n",
            "Epoch [6/30], Loss: 0.7107\n",
            "Epoch [7/30], Loss: 0.6891\n",
            "Epoch [8/30], Loss: 0.6618\n",
            "Epoch [9/30], Loss: 0.6433\n",
            "Epoch [10/30], Loss: 0.6316\n",
            "Epoch [11/30], Loss: 0.6192\n",
            "Epoch [12/30], Loss: 0.6072\n",
            "Epoch [13/30], Loss: 0.5976\n",
            "Epoch [14/30], Loss: 0.5903\n",
            "Epoch [15/30], Loss: 0.5837\n",
            "Epoch [16/30], Loss: 0.5776\n",
            "Epoch [17/30], Loss: 0.5755\n",
            "Epoch [18/30], Loss: 0.5701\n",
            "Epoch [19/30], Loss: 0.5639\n",
            "Epoch [20/30], Loss: 0.5600\n",
            "Epoch [21/30], Loss: 0.5566\n",
            "Epoch [22/30], Loss: 0.5529\n",
            "Epoch [23/30], Loss: 0.5503\n",
            "Epoch [24/30], Loss: 0.5483\n",
            "Epoch [25/30], Loss: 0.5463\n",
            "Epoch [26/30], Loss: 0.5424\n",
            "Epoch [27/30], Loss: 0.5380\n",
            "Epoch [28/30], Loss: 0.5373\n",
            "Epoch [29/30], Loss: 0.5352\n",
            "Epoch [30/30], Loss: 0.5357\n"
          ]
        },
        {
          "output_type": "display_data",
          "data": {
            "text/plain": [
              "<Figure size 640x480 with 1 Axes>"
            ],
            "image/png": "[encoded data removed]"
          },
          "metadata": {}
        },
        {
          "output_type": "stream",
          "name": "stdout",
          "text": [
            "\n",
            "Evaluating model trained with L2 regularization:\n",
            "Overall Accuracy on the test set: 83.81%\n",
            "\n",
            "Accuracy of T-shirt/top: 83.40%\n",
            "Accuracy of    Trouser: 94.60%\n",
            "Accuracy of   Pullover: 69.70%\n",
            "Accuracy of      Dress: 87.90%\n",
            "Accuracy of       Coat: 77.10%\n",
            "Accuracy of     Sandal: 93.30%\n",
            "Accuracy of      Shirt: 54.10%\n",
            "Accuracy of    Sneaker: 92.60%\n",
            "Accuracy of        Bag: 94.80%\n",
            "Accuracy of Ankle boot: 90.60%\n"
          ]
        }
      ]
    },
    {
      "cell_type": "markdown",
      "source": [
        "#### **Observation-**"
      ],
      "metadata": {
        "id": "elTLu4UMECTi"
      }
    },
    {
      "cell_type": "markdown",
      "source": [
        "**Overall Test Set Accuracy:**\n",
        "\n",
        "*   **L2 Regularization + Dropout:** 83.81%\n",
        "*   In previous runs without dropout or with a simpler configuration, you reported accuracies ranging between 87.82% and 88.90%. Thus, the addition of dropout and L2 regularization resulted in a lower overall accuracy.\n",
        "*   Classes such as Trouser (94.60%), Sandal (93.30%), and Bag (94.80%) still maintain relatively high accuracy but show a slight drop compared to previous training without dropout.\n",
        "*   Notably, there is a significant drop in the accuracy of the Shirt (54.10%) class compared to previous attempts (where it was around 66.50% - 75.50%).\n",
        "Similarly, Pullover (69.70%) and Coat (77.10%) also show decreased accuracy.\n",
        "\n",
        "\n"
      ],
      "metadata": {
        "id": "JtzlIYtjEPpo"
      }
    },
    {
      "cell_type": "markdown",
      "source": [
        "### **Final Discussion-**"
      ],
      "metadata": {
        "id": "MF9BKMvsEUpA"
      }
    },
    {
      "cell_type": "markdown",
      "source": [
        "1.   **Neuron Configurations Without Regularization:**\n",
        " *   **10 Neurons:** 88.23% Accuracy. Limited capacity, but decent performance, indicating that the model can still generalize fairly well with fewer neurons.\n",
        " *   **50 Neurons:** 89.65% Accuracy. Best overall performance, suggesting this is the optimal balance between model complexity and generalization.\n",
        " *   **100 Neurons:** 88.67% Accuracy. Slight drop in accuracy, which may indicate diminishing returns or minor overfitting as the model grows more complex.\n",
        " *   **512 Neurons:** 88.29% Accuracy. Performance decreases, likely due to overfitting or too much capacity, where the model memorizes the training data but struggles to generalize well to the test data.\n",
        "\n",
        "2.   **Impact of Dropout (0.5) and L2 Regularization:**\n",
        " *   After applying dropout with a 0.5 probability and L2 regularization through weight_decay, the overall accuracy on the test set dropped to **83.81%**.\n",
        " *   Dropout combats overfitting by randomly deactivating neurons during training, but a 0.5 probability may be too aggressive, reducing the model's ability to capture complex patterns.\n",
        " *   L2 regularization penalizes large weights, promoting generalization, but too much regularization can lead to underfitting, as seen in the drop in accuracy.\n",
        "\n",
        "3.   **Key Takeaways:**\n",
        "\n",
        " *   50 neurons provided the best performance (89.65%), balancing complexity and generalization.\n",
        " *   Adding dropout (0.5) and L2 regularization led to a significant decrease in accuracy (83.81%), suggesting that this combination caused underfitting, especially with more complex patterns.\n",
        " *   The results highlight the need for a balanced model complexity: increasing neurons without regularization initially improves accuracy but then plateaus or decreases due to overfitting.\n",
        "\n",
        "In conclusion, while adding dropout and L2 regularization helps prevent overfitting, too much regularization can reduce the model's performance, as seen in the final result. The 50 neurons configuration appears optimal without excessive regularization."
      ],
      "metadata": {
        "id": "r2Itn6JKEgIa"
      }
    }
  ]
}